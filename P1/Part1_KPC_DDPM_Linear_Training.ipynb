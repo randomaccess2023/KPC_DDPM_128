{
 "cells": [
  {
   "cell_type": "markdown",
   "id": "c66546d0",
   "metadata": {},
   "source": [
    "## 1. Import the required libraries"
   ]
  },
  {
   "cell_type": "code",
   "execution_count": null,
   "id": "6e3518ba",
   "metadata": {},
   "outputs": [],
   "source": [
    "import os\n",
    "os.environ['TF_ENABLE_ONEDNN_OPTS'] = 'False'\n",
    "import sys\n",
    "import datetime\n",
    "import configparser\n",
    "\n",
    "import numpy as np\n",
    "import pandas as pd\n",
    "import matplotlib.pyplot as plt\n",
    "\n",
    "import re\n",
    "import random\n",
    "from tqdm import tqdm\n",
    "from torchinfo import summary\n",
    "\n",
    "import torch\n",
    "from torch import optim\n",
    "from torch.backends import cudnn\n",
    "\n",
    "import torchvision\n",
    "from torchvision import transforms\n",
    "\n",
    "sys.path.insert(0, '../MODULES')\n",
    "from DENOISING_DIFFUSION_PYTORCH import Unet, GaussianDiffusion\n",
    "\n",
    "import warnings\n",
    "warnings.filterwarnings('ignore', category=FutureWarning)"
   ]
  },
  {
   "cell_type": "markdown",
   "id": "a6888919",
   "metadata": {},
   "source": [
    "## 2. Write device agnostic code"
   ]
  },
  {
   "cell_type": "code",
   "execution_count": null,
   "id": "d6eb6a6e",
   "metadata": {},
   "outputs": [],
   "source": [
    "device = 'cuda' if torch.cuda.is_available() else 'cpu'\n",
    "print('Device is:', device)"
   ]
  },
  {
   "cell_type": "markdown",
   "id": "d7632d6a",
   "metadata": {},
   "source": [
    "## 3. Set stamp to save models"
   ]
  },
  {
   "cell_type": "code",
   "execution_count": null,
   "id": "8e3d3f20",
   "metadata": {},
   "outputs": [],
   "source": [
    "stamp = datetime.datetime.now().strftime('%Y%m%d')\n",
    "print(stamp)"
   ]
  },
  {
   "cell_type": "markdown",
   "id": "0e42f6fe",
   "metadata": {},
   "source": [
    "## 4. Fix hyperparameters"
   ]
  },
  {
   "cell_type": "code",
   "execution_count": null,
   "id": "977d1d77",
   "metadata": {},
   "outputs": [],
   "source": [
    "config = configparser.ConfigParser()\n",
    "\n",
    "config['diffusion_model'] = {'rand_seed': 76543, 'n_pix': 128, 'batch_size': 10, 'learning_rate': 1e-4, 'h_dim': 64,\n",
    "                             'dim_mults': [1, 2, 4, 8], 'self_condition': False, 'timesteps': 1000}\n",
    "\n",
    "config.write(sys.stdout)"
   ]
  },
  {
   "cell_type": "markdown",
   "id": "63a4b6a3",
   "metadata": {},
   "source": [
    "## 5. Set hyperparameters"
   ]
  },
  {
   "cell_type": "code",
   "execution_count": null,
   "id": "f5962082",
   "metadata": {},
   "outputs": [],
   "source": [
    "rand_seed = int(config['diffusion_model']['rand_seed'])\n",
    "\n",
    "random.seed(rand_seed)\n",
    "np.random.seed(rand_seed)\n",
    "torch.manual_seed(rand_seed)\n",
    "torch.random.manual_seed(rand_seed)\n",
    "\n",
    "if device == 'cuda':\n",
    "    torch.cuda.manual_seed(rand_seed)\n",
    "    torch.cuda.manual_seed_all(rand_seed)\n",
    "\n",
    "torch.backends.cudnn.deterministic = True\n",
    "torch.use_deterministic_algorithms = True"
   ]
  },
  {
   "cell_type": "code",
   "execution_count": null,
   "id": "edd8a68a",
   "metadata": {},
   "outputs": [],
   "source": [
    "n_pix         = int(config['diffusion_model']['n_pix'])\n",
    "batch_size    = int(config['diffusion_model']['batch_size'])\n",
    "learning_rate = float(config['diffusion_model']['learning_rate'])\n",
    "h_dim         = int(config['diffusion_model']['h_dim'])"
   ]
  },
  {
   "cell_type": "code",
   "execution_count": null,
   "id": "d99b2a02",
   "metadata": {},
   "outputs": [],
   "source": [
    "match = re.search('\\[(.*)\\]', config['diffusion_model']['dim_mults'])\n",
    "dim_mults = re.split(',\\s*', match[1])\n",
    "dim_mults = [int(i) for i in dim_mults]"
   ]
  },
  {
   "cell_type": "code",
   "execution_count": null,
   "id": "cdad207f",
   "metadata": {},
   "outputs": [],
   "source": [
    "self_condition = bool(config['diffusion_model']['self_condition'])\n",
    "timesteps      = int(config['diffusion_model']['timesteps'])"
   ]
  },
  {
   "cell_type": "markdown",
   "id": "97281082",
   "metadata": {},
   "source": [
    "## 6. Load dataset"
   ]
  },
  {
   "cell_type": "code",
   "execution_count": null,
   "id": "ebd30c54",
   "metadata": {},
   "outputs": [],
   "source": [
    "dir_src = '/project/dsc-is/nono/Documents/kpc/dat0'\n",
    "data_src = 'slice128_Block2_11K.npy'\n",
    "\n",
    "print(os.path.join(dir_src, data_src))\n",
    "\n",
    "pix_src = np.load(os.path.join(dir_src, data_src))\n",
    "pix_src = pix_src[:, 0, :, :, :]\n",
    "\n",
    "print(pix_src.shape)\n",
    "n_sample, nx, ny, nc = pix_src.shape"
   ]
  },
  {
   "cell_type": "code",
   "execution_count": null,
   "id": "668e2e78",
   "metadata": {},
   "outputs": [],
   "source": [
    "# randomly show 20 images from pix_src\n",
    "\n",
    "fig, axis = plt.subplots(nrows=2, ncols=10, figsize=(20, 4))\n",
    "\n",
    "for ax, _ in zip(axis.ravel(), range(20)):\n",
    "    inx = np.random.randint(len(pix_src))\n",
    "    ax.imshow(pix_src[inx])\n",
    "    ax.axis(False);"
   ]
  },
  {
   "cell_type": "markdown",
   "id": "6453745f",
   "metadata": {},
   "source": [
    "## 7. Instantiate Unet"
   ]
  },
  {
   "cell_type": "code",
   "execution_count": null,
   "id": "2627b290",
   "metadata": {},
   "outputs": [],
   "source": [
    "model = Unet(dim=h_dim, dim_mults=dim_mults, self_condition=self_condition, flash_attn=True)"
   ]
  },
  {
   "cell_type": "markdown",
   "id": "551d9825",
   "metadata": {},
   "source": [
    "## 8. Visualize Unet"
   ]
  },
  {
   "cell_type": "code",
   "execution_count": null,
   "id": "b5b8b232",
   "metadata": {},
   "outputs": [],
   "source": [
    "summary(model, input_size=[(10, 3, 128, 128), (10,)])"
   ]
  },
  {
   "cell_type": "markdown",
   "id": "0c40d59b",
   "metadata": {},
   "source": [
    "## 9. Instantiate diffusion model"
   ]
  },
  {
   "cell_type": "code",
   "execution_count": null,
   "id": "19c2b45d",
   "metadata": {},
   "outputs": [],
   "source": [
    "diffusion = GaussianDiffusion(model, image_size=n_pix, timesteps=timesteps, objective='pred_noise', beta_schedule='linear',\n",
    "                              auto_normalize=False).to(device)"
   ]
  },
  {
   "cell_type": "markdown",
   "id": "0ed60d2b",
   "metadata": {},
   "source": [
    "## 10. Set up optimizer"
   ]
  },
  {
   "cell_type": "code",
   "execution_count": null,
   "id": "a7b3afb5",
   "metadata": {},
   "outputs": [],
   "source": [
    "optim1 = optim.AdamW(diffusion.parameters(), lr=learning_rate, amsgrad=True)"
   ]
  },
  {
   "cell_type": "markdown",
   "id": "c04c1164",
   "metadata": {},
   "source": [
    "## 11. Custom functions to save diffusion model history"
   ]
  },
  {
   "cell_type": "code",
   "execution_count": null,
   "id": "40983f6d",
   "metadata": {},
   "outputs": [],
   "source": [
    "class HistDict():\n",
    "    def __init__(self, keys):\n",
    "        self.values = {}\n",
    "        for kk in keys:\n",
    "            self.values[kk] = []\n",
    "        self.keys = keys\n",
    "        \n",
    "    def append(self, dict_hist):\n",
    "        for kk in dict_hist.keys():\n",
    "            self.values[kk].append(dict_hist[kk])\n",
    "            \n",
    "    def mean(self, keys=None):\n",
    "        if (keys is None):\n",
    "            keys = self.keys\n",
    "        mm = {}\n",
    "        for kk in keys:\n",
    "            mm[kk] = np.round(np.mean(self.values[kk]), 6)\n",
    "        return mm\n",
    "    \n",
    "    def __getitem__(self, key):\n",
    "        return self.values[key]\n",
    "    \n",
    "    def DataFrame(self):\n",
    "        tmp = pd.DataFrame.from_dict(self.values)\n",
    "        return tmp\n",
    "            \n",
    "    def read_tsv(self, filepath):\n",
    "        tmp = pd.read_csv(filepath, delimiter='\\t')\n",
    "        tmp = tmp.iloc[:, 1:]\n",
    "        dict_tmp = tmp.to_dict(orient=\"list\")\n",
    "        keys_tmp = dict_tmp.keys()\n",
    "        self.keys = keys_tmp\n",
    "        for kk in keys_tmp:\n",
    "            self.values[kk] = dict_tmp[kk]"
   ]
  },
  {
   "cell_type": "markdown",
   "id": "8ed26889",
   "metadata": {},
   "source": [
    "## 12. Custom function to create a list of batches"
   ]
  },
  {
   "cell_type": "code",
   "execution_count": null,
   "id": "e1e2ce67",
   "metadata": {},
   "outputs": [],
   "source": [
    "def make_batch_list(idx, n_batch=10, batch_size=None, shuffle=True):\n",
    "    if shuffle:\n",
    "        np.random.shuffle(idx)\n",
    "    if (batch_size is not None):\n",
    "        n_batch = len(idx) // batch_size\n",
    "    batch_list = np.array_split(idx, n_batch)\n",
    "    return batch_list"
   ]
  },
  {
   "cell_type": "markdown",
   "id": "102b5bf4",
   "metadata": {},
   "source": [
    "## 13. Custom function to extract samples in batches"
   ]
  },
  {
   "cell_type": "code",
   "execution_count": null,
   "id": "09af873f",
   "metadata": {},
   "outputs": [],
   "source": [
    "transform_pix = transforms.Compose([transforms.ToTensor()])\n",
    "\n",
    "def generate_batch(idx, pix_src):\n",
    "    tmp = []\n",
    "    for ii in idx:\n",
    "        xxx = transform_pix(pix_src[ii])\n",
    "        tmp.append(xxx)\n",
    "    xxx_batch = torch.stack(tmp, dim=0)\n",
    "    return xxx_batch"
   ]
  },
  {
   "cell_type": "markdown",
   "id": "06cd0132",
   "metadata": {},
   "source": [
    "## 14. Train DDPM"
   ]
  },
  {
   "cell_type": "code",
   "execution_count": null,
   "id": "d638189c",
   "metadata": {},
   "outputs": [],
   "source": [
    "def train_diff(t_epoch, t_print, hist_tt=None):\n",
    "    print('Training starts at', datetime.datetime.now().strftime('%H:%M'), '(24-hour format)')\n",
    "    key_trn = ['loss_trn']\n",
    "    \n",
    "    if (hist_tt is None):\n",
    "        hist_tt = HistDict(['tt'] + key_trn)\n",
    "        \n",
    "    for tt in range(t_epoch):\n",
    "        diffusion.train()\n",
    "        idx_trn = np.arange(n_sample)\n",
    "        batch_list = make_batch_list(idx_trn, batch_size=batch_size)\n",
    "        hist_batch = HistDict(key_trn)\n",
    "        \n",
    "        for idx_tmp in tqdm(batch_list):\n",
    "            xxx_tmp = generate_batch(idx_tmp, pix_src)\n",
    "            xxx_tmp = xxx_tmp.to(device)\n",
    "            loss_tmp = diffusion(xxx_tmp)\n",
    "            \n",
    "            optim1.zero_grad()\n",
    "            loss_tmp.backward()\n",
    "            optim1.step()\n",
    "            \n",
    "            hist_batch.append({'loss_trn': loss_tmp.item()})\n",
    "            \n",
    "        hist_trn = hist_batch.mean()\n",
    "        hist_tt.append({'tt': tt})\n",
    "        hist_tt.append(hist_trn)\n",
    "        \n",
    "        if (tt + 1) % t_print == 0:\n",
    "            print(f'Epoch: {(tt + 1)}/{t_epoch}','|','Training loss:', np.round(hist_trn['loss_trn'], 4))\n",
    "            \n",
    "    print('Training finishes at', datetime.datetime.now().strftime('%H:%M'), '(24-hour format)')\n",
    "    return hist_tt"
   ]
  },
  {
   "cell_type": "code",
   "execution_count": null,
   "id": "53e00b53",
   "metadata": {},
   "outputs": [],
   "source": [
    "dir_save = '../P1'\n",
    "key_trn = ['loss_trn']\n",
    "hist_tt = HistDict(['tt'] + key_trn)"
   ]
  },
  {
   "cell_type": "code",
   "execution_count": null,
   "id": "2b1c03d1",
   "metadata": {
    "scrolled": true
   },
   "outputs": [],
   "source": [
    "t_epoch = 150\n",
    "t_print = 10\n",
    "\n",
    "hist_tt = train_diff(t_epoch, t_print, hist_tt)"
   ]
  },
  {
   "cell_type": "markdown",
   "id": "3518de8d",
   "metadata": {},
   "source": [
    "## 15. Save history and diffusion model"
   ]
  },
  {
   "cell_type": "code",
   "execution_count": null,
   "id": "1ebc4e07",
   "metadata": {},
   "outputs": [],
   "source": [
    "path_model = os.path.join(dir_save, 'model_ddpm.{}.{}.ckpt'.format(stamp, t_epoch))\n",
    "path_hist = os.path.join(dir_save, 'hist_ddpm.{}.{}.tsv'.format(stamp, t_epoch))"
   ]
  },
  {
   "cell_type": "code",
   "execution_count": null,
   "id": "f1d9722a",
   "metadata": {},
   "outputs": [],
   "source": [
    "print('saving', path_model)\n",
    "torch.save(diffusion.model.state_dict(), path_model)\n",
    "print('saving', path_hist)\n",
    "hist_tt.DataFrame().to_csv(path_hist, sep='\\t')"
   ]
  }
 ],
 "metadata": {
  "kernelspec": {
   "display_name": "Python 3 (ipykernel)",
   "language": "python",
   "name": "python3"
  },
  "language_info": {
   "codemirror_mode": {
    "name": "ipython",
    "version": 3
   },
   "file_extension": ".py",
   "mimetype": "text/x-python",
   "name": "python",
   "nbconvert_exporter": "python",
   "pygments_lexer": "ipython3",
   "version": "3.9.13"
  }
 },
 "nbformat": 4,
 "nbformat_minor": 5
}
