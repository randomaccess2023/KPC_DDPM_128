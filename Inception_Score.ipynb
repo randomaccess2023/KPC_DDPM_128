{
 "cells": [
  {
   "cell_type": "markdown",
   "id": "7b959224",
   "metadata": {},
   "source": [
    "## <center>Calculate Inception Score (IS) using samples generated with `Linear`, `Cosine`, and `Sigmoid` scheduler</center>"
   ]
  },
  {
   "cell_type": "code",
   "execution_count": 1,
   "id": "7f597683",
   "metadata": {},
   "outputs": [],
   "source": [
    "import torch\n",
    "from torch import nn\n",
    "from torch.autograd import Variable\n",
    "import torch.nn.functional as F\n",
    "from torch.utils.data import DataLoader, Dataset\n",
    "\n",
    "from torchvision import datasets, transforms, models\n",
    "from torchvision.models.inception import inception_v3\n",
    "\n",
    "import os\n",
    "import pathlib\n",
    "from PIL import Image \n",
    "import numpy as np\n",
    "from scipy.stats import entropy"
   ]
  },
  {
   "cell_type": "code",
   "execution_count": 2,
   "id": "49762bc7",
   "metadata": {},
   "outputs": [],
   "source": [
    "def inception_score(imgs, cuda=True, batch_size=32, resize=False, splits=1):\n",
    "    \n",
    "    N = len(imgs)\n",
    "    \n",
    "    assert batch_size > 0\n",
    "    assert N > batch_size\n",
    "    \n",
    "    # Set up dtype\n",
    "    if cuda:\n",
    "        dtype = torch.cuda.FloatTensor\n",
    "    else:\n",
    "        if torch.cuda.is_available():\n",
    "            print(\"WARNING: You have a CUDA device, so you should probably set cuda=True\")\n",
    "        dtype = torch.FloatTensor\n",
    "        \n",
    "    # Set up dataloader\n",
    "    dataloader = DataLoader(imgs, batch_size=batch_size)\n",
    "    \n",
    "    # Load inception model\n",
    "    inception_model = inception_v3(weights=models.Inception_V3_Weights.DEFAULT, transform_input=False).type(dtype)\n",
    "    inception_model.eval();\n",
    "    up = nn.Upsample(size=(299, 299), mode='bilinear').type(dtype)\n",
    "    def get_pred(x):\n",
    "        if resize:\n",
    "            x = up(x)\n",
    "        x = inception_model(x)\n",
    "        return F.softmax(x, dim=1).detach().cpu().numpy()\n",
    "    \n",
    "    # Get predictions\n",
    "    preds = np.zeros((N, 1000))\n",
    "    \n",
    "    for i, batch in enumerate(dataloader, 0):\n",
    "        batch = batch.type(dtype)\n",
    "        batchv = Variable(batch)\n",
    "        batch_size_i = batch.size()[0]\n",
    "        \n",
    "        preds[i*batch_size:i*batch_size + batch_size_i] = get_pred(batchv)\n",
    "        \n",
    "    # Now compute the mean kl-div\n",
    "    split_scores = []\n",
    "    \n",
    "    for k in range(splits):\n",
    "        part = preds[k * (N // splits): (k+1) * (N // splits), :]\n",
    "        py = np.mean(part, axis=0)\n",
    "        scores = []\n",
    "        for i in range(part.shape[0]):\n",
    "            pyx = part[i, :]\n",
    "            scores.append(entropy(pyx, py))\n",
    "        split_scores.append(np.exp(np.mean(scores)))\n",
    "        \n",
    "    return np.mean(split_scores)"
   ]
  },
  {
   "cell_type": "code",
   "execution_count": 3,
   "id": "b68f06f7",
   "metadata": {},
   "outputs": [],
   "source": [
    "class ImagePathDataset(Dataset):\n",
    "    def __init__(self, files, transform=None):\n",
    "        \n",
    "        self.files = files\n",
    "        self.transform = transform\n",
    "        \n",
    "    def __len__(self):\n",
    "        return len(self.files)\n",
    "    \n",
    "    def __getitem__(self, i):\n",
    "        path = self.files[i]\n",
    "        img = Image.open(path).convert('RGB')\n",
    "        if self.transform is not None:\n",
    "            img = self.transform(img)\n",
    "        return img"
   ]
  },
  {
   "cell_type": "code",
   "execution_count": 4,
   "id": "41a43ac6",
   "metadata": {},
   "outputs": [],
   "source": [
    "IMAGE_EXTENSIONS = {'jpg'}"
   ]
  },
  {
   "cell_type": "code",
   "execution_count": 5,
   "id": "419ea0d9",
   "metadata": {},
   "outputs": [
    {
     "name": "stdout",
     "output_type": "stream",
     "text": [
      "Total images in gen_path_linear: 11000\n",
      "Calculating Inception Score for Linear Scheduler\n",
      "1.875\n"
     ]
    }
   ],
   "source": [
    "gen_path_linear = 'GEN_Linear'\n",
    "print('Total images in gen_path_linear:', len(next(os.walk(gen_path_linear))[2]))\n",
    "\n",
    "path_linear = pathlib.Path(gen_path_linear)\n",
    "files_linear = sorted([file for ext in IMAGE_EXTENSIONS for file in path_linear.glob('*.{}'.format(ext))])\n",
    "\n",
    "dataset_linear = ImagePathDataset(files_linear, transform=transforms.ToTensor())\n",
    "\n",
    "print(\"Calculating Inception Score for Linear Scheduler\")\n",
    "print(round(inception_score(dataset_linear, cuda=True, batch_size=50, resize=True, splits=10), 3))"
   ]
  },
  {
   "cell_type": "code",
   "execution_count": 6,
   "id": "e3c0cbb8",
   "metadata": {},
   "outputs": [
    {
     "name": "stdout",
     "output_type": "stream",
     "text": [
      "Total images in gen_path_cosine: 11000\n",
      "Calculating Inception Score for Cosine Scheduler\n",
      "1.065\n"
     ]
    }
   ],
   "source": [
    "gen_path_cosine = 'GEN_Cosine'\n",
    "print('Total images in gen_path_cosine:', len(next(os.walk(gen_path_cosine))[2]))\n",
    "\n",
    "path_cosine = pathlib.Path(gen_path_cosine)\n",
    "files_cosine = sorted([file for ext in IMAGE_EXTENSIONS for file in path_cosine.glob('*.{}'.format(ext))])\n",
    "\n",
    "dataset_cosine = ImagePathDataset(files_cosine, transform=transforms.ToTensor())\n",
    "\n",
    "print(\"Calculating Inception Score for Cosine Scheduler\")\n",
    "print(round(inception_score(dataset_cosine, cuda=True, batch_size=50, resize=True, splits=10), 3))"
   ]
  },
  {
   "cell_type": "code",
   "execution_count": 7,
   "id": "9b27fe5b",
   "metadata": {},
   "outputs": [
    {
     "name": "stdout",
     "output_type": "stream",
     "text": [
      "Total images in gen_path_sigmoid: 11000\n",
      "Calculating Inception Score for Sigmoid Scheduler\n",
      "1.918\n"
     ]
    }
   ],
   "source": [
    "gen_path_sigmoid = 'GEN_Sigmoid'\n",
    "print('Total images in gen_path_sigmoid:', len(next(os.walk(gen_path_sigmoid))[2]))\n",
    "\n",
    "path_sigmoid = pathlib.Path(gen_path_sigmoid)\n",
    "files_sigmoid = sorted([file for ext in IMAGE_EXTENSIONS for file in path_sigmoid.glob('*.{}'.format(ext))])\n",
    "\n",
    "dataset_sigmoid = ImagePathDataset(files_sigmoid, transform=transforms.ToTensor())\n",
    "\n",
    "print(\"Calculating Inception Score for Sigmoid Scheduler\")\n",
    "print(round(inception_score(dataset_sigmoid, cuda=True, batch_size=50, resize=True, splits=10), 3))"
   ]
  }
 ],
 "metadata": {
  "kernelspec": {
   "display_name": "Python 3 (ipykernel)",
   "language": "python",
   "name": "python3"
  },
  "language_info": {
   "codemirror_mode": {
    "name": "ipython",
    "version": 3
   },
   "file_extension": ".py",
   "mimetype": "text/x-python",
   "name": "python",
   "nbconvert_exporter": "python",
   "pygments_lexer": "ipython3",
   "version": "3.9.13"
  }
 },
 "nbformat": 4,
 "nbformat_minor": 5
}
